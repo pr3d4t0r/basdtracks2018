{
 "cells": [
  {
   "cell_type": "markdown",
   "metadata": {},
   "source": [
    "# Bay Area Skydiving 2018 Tracking Contest\n",
    "\n",
    "The code and the cool stuff will happen here."
   ]
  },
  {
   "cell_type": "code",
   "execution_count": 1,
   "metadata": {
    "scrolled": true
   },
   "outputs": [],
   "source": [
    "%matplotlib inline\n",
    "\n",
    "\n",
    "import matplotlib.pyplot as plt\n",
    "import pandas as pd\n",
    "import seaborn as sns\n",
    "\n",
    "sns.set(style='darkgrid')"
   ]
  },
  {
   "cell_type": "code",
   "execution_count": 7,
   "metadata": {},
   "outputs": [
    {
     "name": "stdout",
     "output_type": "stream",
     "text": [
      "./FlySight/Achal-Asawa.CSV\n",
      "./FlySight/Ben-Myles.CSV\n",
      "./FlySight/Charlie-Krem.CSV\n",
      "./FlySight/Eugenio-pr3d4t0r.CSV\n",
      "./FlySight/Jean-T.CSV\n",
      "./FlySight/Jessy-Hurst.CSV\n",
      "./FlySight/Joe-Kam.CSV\n",
      "./FlySight/Katie-Upham.CSV\n",
      "./FlySight/Mad-John.CSV\n",
      "./FlySight/Michal-Tomaszewski.CSV\n",
      "./FlySight/N8.CSV\n",
      "./FlySight/Nate-Nielsen.CSV\n",
      "./FlySight/Pete-Maverick.CSV\n",
      "./FlySight/Shaun-Fenner.CSV\n",
      "./FlySight/Time-Mattson.CSV\n",
      "./FlySight/Valentin-Ryabov.CSV\n",
      "./FlySight/William-De.CSV\n",
      "./FlySight/Xinqi-Wang.CSV\n"
     ]
    }
   ],
   "source": [
    "import os\n",
    "\n",
    "FLYSIGHT_DIR = './FlySight'\n",
    "\n",
    "for fileName in sorted(os.listdir(FLYSIGHT_DIR)):\n",
    "    print(os.path.join(FLYSIGHT_DIR, fileName))"
   ]
  },
  {
   "cell_type": "code",
   "execution_count": 11,
   "metadata": {},
   "outputs": [
    {
     "data": {
      "text/html": [
       "<div>\n",
       "<style scoped>\n",
       "    .dataframe tbody tr th:only-of-type {\n",
       "        vertical-align: middle;\n",
       "    }\n",
       "\n",
       "    .dataframe tbody tr th {\n",
       "        vertical-align: top;\n",
       "    }\n",
       "\n",
       "    .dataframe thead th {\n",
       "        text-align: right;\n",
       "    }\n",
       "</style>\n",
       "<table border=\"1\" class=\"dataframe\">\n",
       "  <thead>\n",
       "    <tr style=\"text-align: right;\">\n",
       "      <th></th>\n",
       "      <th>time</th>\n",
       "      <th>lat</th>\n",
       "      <th>lon</th>\n",
       "      <th>hMSL</th>\n",
       "      <th>velN</th>\n",
       "      <th>velE</th>\n",
       "      <th>velD</th>\n",
       "      <th>hAcc</th>\n",
       "      <th>vAcc</th>\n",
       "      <th>sAcc</th>\n",
       "      <th>heading</th>\n",
       "      <th>cAcc</th>\n",
       "      <th>gpsFix</th>\n",
       "      <th>numSV</th>\n",
       "    </tr>\n",
       "  </thead>\n",
       "  <tbody>\n",
       "    <tr>\n",
       "      <th>0</th>\n",
       "      <td>NaN</td>\n",
       "      <td>(deg)</td>\n",
       "      <td>(deg)</td>\n",
       "      <td>(m)</td>\n",
       "      <td>(m/s)</td>\n",
       "      <td>(m/s)</td>\n",
       "      <td>(m/s)</td>\n",
       "      <td>(m)</td>\n",
       "      <td>(m)</td>\n",
       "      <td>(m/s)</td>\n",
       "      <td>(deg)</td>\n",
       "      <td>(deg)</td>\n",
       "      <td>NaN</td>\n",
       "      <td>NaN</td>\n",
       "    </tr>\n",
       "    <tr>\n",
       "      <th>1</th>\n",
       "      <td>2018-07-07T22:15:26.59Z</td>\n",
       "      <td>37.8350893</td>\n",
       "      <td>-121.6325004</td>\n",
       "      <td>-0.054</td>\n",
       "      <td>0.79</td>\n",
       "      <td>0.31</td>\n",
       "      <td>-1.56</td>\n",
       "      <td>873.128</td>\n",
       "      <td>894.316</td>\n",
       "      <td>10.37</td>\n",
       "      <td>0.00000</td>\n",
       "      <td>180.00000</td>\n",
       "      <td>3.0</td>\n",
       "      <td>4.0</td>\n",
       "    </tr>\n",
       "    <tr>\n",
       "      <th>2</th>\n",
       "      <td>2018-07-07T22:15:26.79Z</td>\n",
       "      <td>37.8351479</td>\n",
       "      <td>-121.6324856</td>\n",
       "      <td>16.246</td>\n",
       "      <td>0.53</td>\n",
       "      <td>0.28</td>\n",
       "      <td>-1.21</td>\n",
       "      <td>132.503</td>\n",
       "      <td>93.036</td>\n",
       "      <td>7.40</td>\n",
       "      <td>0.00000</td>\n",
       "      <td>180.00000</td>\n",
       "      <td>3.0</td>\n",
       "      <td>4.0</td>\n",
       "    </tr>\n",
       "    <tr>\n",
       "      <th>3</th>\n",
       "      <td>2018-07-07T22:15:27.00Z</td>\n",
       "      <td>37.8351874</td>\n",
       "      <td>-121.6324991</td>\n",
       "      <td>16.320</td>\n",
       "      <td>0.44</td>\n",
       "      <td>0.16</td>\n",
       "      <td>-0.92</td>\n",
       "      <td>102.508</td>\n",
       "      <td>71.949</td>\n",
       "      <td>5.49</td>\n",
       "      <td>0.00000</td>\n",
       "      <td>180.00000</td>\n",
       "      <td>3.0</td>\n",
       "      <td>4.0</td>\n",
       "    </tr>\n",
       "    <tr>\n",
       "      <th>4</th>\n",
       "      <td>2018-07-07T22:15:27.20Z</td>\n",
       "      <td>37.8352039</td>\n",
       "      <td>-121.6325037</td>\n",
       "      <td>16.369</td>\n",
       "      <td>0.36</td>\n",
       "      <td>0.06</td>\n",
       "      <td>-0.63</td>\n",
       "      <td>90.562</td>\n",
       "      <td>63.524</td>\n",
       "      <td>4.59</td>\n",
       "      <td>0.00000</td>\n",
       "      <td>180.00000</td>\n",
       "      <td>3.0</td>\n",
       "      <td>4.0</td>\n",
       "    </tr>\n",
       "  </tbody>\n",
       "</table>\n",
       "</div>"
      ],
      "text/plain": [
       "                      time         lat           lon    hMSL   velN   velE  \\\n",
       "0                      NaN       (deg)         (deg)     (m)  (m/s)  (m/s)   \n",
       "1  2018-07-07T22:15:26.59Z  37.8350893  -121.6325004  -0.054   0.79   0.31   \n",
       "2  2018-07-07T22:15:26.79Z  37.8351479  -121.6324856  16.246   0.53   0.28   \n",
       "3  2018-07-07T22:15:27.00Z  37.8351874  -121.6324991  16.320   0.44   0.16   \n",
       "4  2018-07-07T22:15:27.20Z  37.8352039  -121.6325037  16.369   0.36   0.06   \n",
       "\n",
       "    velD     hAcc     vAcc   sAcc  heading       cAcc  gpsFix  numSV  \n",
       "0  (m/s)      (m)      (m)  (m/s)    (deg)      (deg)     NaN    NaN  \n",
       "1  -1.56  873.128  894.316  10.37  0.00000  180.00000     3.0    4.0  \n",
       "2  -1.21  132.503   93.036   7.40  0.00000  180.00000     3.0    4.0  \n",
       "3  -0.92  102.508   71.949   5.49  0.00000  180.00000     3.0    4.0  \n",
       "4  -0.63   90.562   63.524   4.59  0.00000  180.00000     3.0    4.0  "
      ]
     },
     "execution_count": 11,
     "metadata": {},
     "output_type": "execute_result"
    }
   ],
   "source": [
    "dataFrame = pd.read_csv(os.path.join(FLYSIGHT_DIR, 'Achal-Asawa.CSV'))\n",
    "dataFrame.head()"
   ]
  },
  {
   "cell_type": "code",
   "execution_count": 18,
   "metadata": {},
   "outputs": [
    {
     "name": "stdout",
     "output_type": "stream",
     "text": [
      "14109\n"
     ]
    }
   ],
   "source": [
    "dataFrame = dataFrame[2:]\n",
    "print(len(dataFrame))"
   ]
  },
  {
   "cell_type": "code",
   "execution_count": 19,
   "metadata": {},
   "outputs": [
    {
     "data": {
      "text/plain": [
       "time        object\n",
       "lat         object\n",
       "lon         object\n",
       "hMSL        object\n",
       "velN        object\n",
       "velE        object\n",
       "velD        object\n",
       "hAcc        object\n",
       "vAcc        object\n",
       "sAcc        object\n",
       "heading     object\n",
       "cAcc        object\n",
       "gpsFix     float64\n",
       "numSV      float64\n",
       "dtype: object"
      ]
     },
     "execution_count": 19,
     "metadata": {},
     "output_type": "execute_result"
    }
   ],
   "source": [
    "dataFrame.dtypes"
   ]
  },
  {
   "cell_type": "code",
   "execution_count": null,
   "metadata": {},
   "outputs": [],
   "source": []
  }
 ],
 "metadata": {
  "kernelspec": {
   "display_name": "Python 3",
   "language": "python",
   "name": "python3"
  },
  "language_info": {
   "codemirror_mode": {
    "name": "ipython",
    "version": 3
   },
   "file_extension": ".py",
   "mimetype": "text/x-python",
   "name": "python",
   "nbconvert_exporter": "python",
   "pygments_lexer": "ipython3",
   "version": "3.6.5"
  }
 },
 "nbformat": 4,
 "nbformat_minor": 2
}
